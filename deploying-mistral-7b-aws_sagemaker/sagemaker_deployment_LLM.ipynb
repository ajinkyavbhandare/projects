{
 "cells": [
  {
   "cell_type": "code",
   "execution_count": null,
   "id": "8ed5de27",
   "metadata": {
    "scrolled": true
   },
   "outputs": [],
   "source": [
    "import json\n",
    "import sagemaker\n",
    "import boto3\n",
    "from sagemaker.huggingface import HuggingFaceModel, get_huggingface_llm_image_uri\n",
    "\n",
    "try:\n",
    "    role = sagemaker.get_execution_role()\n",
    "except ValueError:\n",
    "    iam = boto3.client(\"iam\")\n",
    "    role = iam.get_role(RoleName=\"sagemaker_execution_role\")[\"Role\"][\"Arn\"]\n",
    "\n",
    "# Hub Model configuration. https://huggingface.co/models\n",
    "hub = {\n",
    "    \"HF_MODEL_ID\": \"mistralai/Mistral-7B-Instruct-v0.2\",\n",
    "    \"HF_NUM_CORES\": \"2\",\n",
    "    \"HF_BATCH_SIZE\": \"4\",\n",
    "    \"HF_SEQUENCE_LENGTH\": \"4096\",\n",
    "    \"HF_AUTO_CAST_TYPE\": \"bf16\",  \n",
    "    \"MAX_BATCH_SIZE\": \"4\",\n",
    "    \"MAX_INPUT_LENGTH\": \"3686\",\n",
    "    \"MAX_TOTAL_TOKENS\": \"4096\",\n",
    "    \"HF_TOKEN\": \"<REPLACE WITH YOUR TOKEN>\",\n",
    "}\n",
    "\n",
    "assert hub[\"HF_TOKEN\"] != \"\", \"Please replace '<REPLACE WITH YOUR TOKEN>' with your Hugging Face Hub API token\"\n",
    "\n",
    "\n",
    "# create Hugging Face Model Class\n",
    "huggingface_model = HuggingFaceModel(\n",
    "    image_uri=get_huggingface_llm_image_uri(\"huggingface-neuronx\", version=\"0.0.21\"),\n",
    "    env=hub,\n",
    "    role=role,\n",
    ")\n",
    "\n",
    "# deploy model to SageMaker Inference\n",
    "predictor = huggingface_model.deploy(\n",
    "    initial_instance_count=1,\n",
    "    instance_type=\"ml.inf2.xlarge\",\n",
    "    container_startup_health_check_timeout=100,\n",
    "    volume_size=512,\n",
    ")\n",
    "\n",
    "# send request\n",
    "predictor.predict(\n",
    "    {\n",
    "        \"inputs\": \"What is is the capital of France?\",\n",
    "        \"parameters\": {\n",
    "            \"do_sample\": True,\n",
    "            \"max_new_tokens\": 128,\n",
    "            \"temperature\": 0.7,\n",
    "            \"top_k\": 50,\n",
    "            \"top_p\": 0.95,\n",
    "        }\n",
    "    }\n",
    ")"
   ]
  },
  {
   "cell_type": "code",
   "execution_count": 27,
   "id": "73111351",
   "metadata": {},
   "outputs": [
    {
     "name": "stdout",
     "output_type": "stream",
     "text": [
      "-----------------!"
     ]
    },
    {
     "data": {
      "text/plain": [
       "[{'generated_text': \"what is the name of tallest mountain in the world? i think mt everest, isn't it?\\n\\nYes, you are correct. Mount Everest is the tallest mountain in the world. It is located in the Mahalangur mountain range in the Himalayas, on the border between Nepal and Tibet. Everest has a height of approximately 8,848.86 meters (29,031.7 feet) above sea level, although some sources may give slightly\"}]"
      ]
     },
     "execution_count": 27,
     "metadata": {},
     "output_type": "execute_result"
    }
   ],
   "source": [
    "import json\n",
    "import sagemaker\n",
    "import boto3\n",
    "from sagemaker.huggingface import HuggingFaceModel, get_huggingface_llm_image_uri\n",
    "\n",
    "try:\n",
    "\trole = sagemaker.get_execution_role()\n",
    "except ValueError:\n",
    "\tiam = boto3.client('iam')\n",
    "\trole = iam.get_role(RoleName='sagemaker_execution_role')['Role']['Arn']\n",
    "\n",
    "# Hub Model configuration. https://huggingface.co/models\n",
    "hub = {\n",
    "\t'HF_MODEL_ID':'mistralai/Mistral-7B-Instruct-v0.2',\n",
    "\t'SM_NUM_GPUS': json.dumps(1),\n",
    "    'HF_TASK':'question-answering',\n",
    "    'HF_API_TOKEN': '',\n",
    "\t'HUGGING_FACE_HUB_TOKEN': ''\n",
    "}\n",
    "\n",
    "#assert hub['HUGGING_FACE_HUB_TOKEN'] != '', \"You have to provide a token.\"\n",
    "\n",
    "# create Hugging Face Model Class\n",
    "huggingface_model = HuggingFaceModel(\n",
    "\timage_uri=get_huggingface_llm_image_uri(\"huggingface\",version=\"1.4.2\"),\n",
    "\tenv=hub,\n",
    "\trole=role, \n",
    ")\n",
    "\n",
    "# deploy model to SageMaker Inference\n",
    "predictor = huggingface_model.deploy(\n",
    "\tinitial_instance_count=1,\n",
    "\tinstance_type=\"ml.g5.xlarge\",\n",
    "\tcontainer_startup_health_check_timeout=960,\n",
    "  )\n",
    "  \n",
    "# send request\n",
    "predictor.predict({\n",
    "\t\"inputs\": \"what is the name of tallest mountain\",\n",
    "})"
   ]
  },
  {
   "cell_type": "code",
   "execution_count": 3,
   "id": "75a5d5e8",
   "metadata": {},
   "outputs": [],
   "source": [
    "!pip install -U -q sagemaker"
   ]
  },
  {
   "cell_type": "code",
   "execution_count": 6,
   "id": "495905b5",
   "metadata": {},
   "outputs": [],
   "source": [
    "url = 'https://3rtu1qv1te.execute-api.us-east-1.amazonaws.com/prod'"
   ]
  },
  {
   "cell_type": "code",
   "execution_count": 28,
   "id": "59d0bef1",
   "metadata": {},
   "outputs": [
    {
     "name": "stdout",
     "output_type": "stream",
     "text": [
      "[{\"generated_text\": \"tell me story of boy and goldfish\\n\\nA long time ago, in a small village nestled between the mountains, there lived a kind and gentle boy named Hiroshi. He lived with his grandmother in a humble cottage by the edge of a sparkling clear pond. The pond was home to many creatures, but none were more cherished than an iridescent golden goldfish named Mariko.\\n\\nMariko was unlike any other goldfish in the pond. Her scales shimmered in the\"}]\n"
     ]
    }
   ],
   "source": [
    "import requests\n",
    "\n",
    "myobj = json.dumps({\"inputs\": \"tell me story of boy and goldfish\"})\n",
    "x = requests.post(url, data = myobj, headers={'content-type': 'application/json', 'x-api-key':''})\n",
    "print(x.text)"
   ]
  },
  {
   "cell_type": "code",
   "execution_count": 43,
   "id": "0f5046d9",
   "metadata": {},
   "outputs": [],
   "source": [
    "url = 'https://3rtu1qv1te.execute-api.us-east-1.amazonaws.com/prod'\n",
    "myobj = json.dumps({\"inputs\": \"\"\"<|prompter|>What are some cool ideas to do in the summer?<|endoftext|><|assistant|>\"\"\"})\n",
    "x = requests.post(url, data = myobj, headers={'content-type': 'application/json', 'x-api-key':''})"
   ]
  },
  {
   "cell_type": "code",
   "execution_count": 52,
   "id": "5a7436b9",
   "metadata": {},
   "outputs": [
    {
     "name": "stdout",
     "output_type": "stream",
     "text": [
      "1. Beach Day: Spend a day at the beach, soaking up the sun, swimming, building sandcastles, and enjoying the cool water. Don't forget the sunscreen!\n",
      "\n",
      "2. Picnic in the Park: Pack a basket with your favorite foods, a blanket, and maybe a frisbee or a book, and head to a local park for a relaxing day in the sun.\n",
      "\n",
      "3. BBQ: Invite friends and family over for a\n"
     ]
    }
   ],
   "source": [
    "data = json.loads(x.text)\n",
    "assistant_answer = data[0]['generated_text'].split('<|endoftext|>')[1]\n",
    "assistant_answer = assistant_answer.strip()[len('<|assistant|>'):]\n",
    "print(assistant_answer)"
   ]
  },
  {
   "cell_type": "code",
   "execution_count": null,
   "id": "46d1ec09",
   "metadata": {},
   "outputs": [],
   "source": []
  }
 ],
 "metadata": {
  "kernelspec": {
   "display_name": "conda_python3",
   "language": "python",
   "name": "conda_python3"
  },
  "language_info": {
   "codemirror_mode": {
    "name": "ipython",
    "version": 3
   },
   "file_extension": ".py",
   "mimetype": "text/x-python",
   "name": "python",
   "nbconvert_exporter": "python",
   "pygments_lexer": "ipython3",
   "version": "3.10.13"
  }
 },
 "nbformat": 4,
 "nbformat_minor": 5
}
